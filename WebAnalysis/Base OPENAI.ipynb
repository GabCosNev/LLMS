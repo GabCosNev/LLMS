{
 "cells": [
  {
   "cell_type": "code",
   "execution_count": 5,
   "id": "18853768-8144-4a39-9b80-af12c1f3ab9c",
   "metadata": {},
   "outputs": [],
   "source": [
    "import os \n",
    "from dotenv import load_dotenv\n",
    "from openai import OpenAI"
   ]
  },
  {
   "cell_type": "code",
   "execution_count": 6,
   "id": "cdb5c350-f440-4eca-866d-72a270a02cf9",
   "metadata": {},
   "outputs": [
    {
     "name": "stdout",
     "output_type": "stream",
     "text": [
      "API key found\n"
     ]
    }
   ],
   "source": [
    "load_dotenv(r'C:\\Users\\Gabriel\\Documents\\key\\key.env')\n",
    "api_key = os.getenv('OPENAI_API_KEY')\n",
    "\n",
    "if not api_key:\n",
    "    print(\"No API key was found\")\n",
    "else:\n",
    "    print(\"API key found\")\n",
    "openai = OpenAI()\n",
    "\n",
    "MODEL = 'gpt-4o-mini'"
   ]
  },
  {
   "cell_type": "code",
   "execution_count": 10,
   "id": "c9bd496e-0752-4285-826a-739dad858aa6",
   "metadata": {},
   "outputs": [],
   "source": [
    "link_system_prompt = \"Você corrige textos de português\""
   ]
  },
  {
   "cell_type": "code",
   "execution_count": 11,
   "id": "7c32d449-312f-4aad-a764-cbb5dd2b5c1e",
   "metadata": {},
   "outputs": [],
   "source": [
    "def user_prompt_correcao(frase):\n",
    "    user_prompt = frase\n",
    "    return frase"
   ]
  },
  {
   "cell_type": "code",
   "execution_count": 14,
   "id": "4c617ba2-3cde-4b48-9552-c9cc2f50d20b",
   "metadata": {},
   "outputs": [],
   "source": [
    "def correcao(frase):\n",
    "    completion = openai.chat.completions.create(\n",
    "    model = MODEL,\n",
    "    messages=[\n",
    "            {\"role\": \"system\", \"content\": link_system_prompt},\n",
    "            {\"role\": \"user\", \"content\":  user_prompt_correcao(frase)}\n",
    "        ],\n",
    "        \n",
    "    )\n",
    "    result = completion.choices[0].message.content\n",
    "    print(result)"
   ]
  },
  {
   "cell_type": "code",
   "execution_count": 15,
   "id": "62b8eabe-3b2e-4e09-a4c5-bbb04eb7296e",
   "metadata": {},
   "outputs": [
    {
     "name": "stdout",
     "output_type": "stream",
     "text": [
      "Claro! A frase corrigida ficaria assim:\n",
      "\n",
      "\"O gato não sabe ler direito porque ele é leigo.\" \n",
      "\n",
      "Se precisar de mais alguma correção, é só avisar!\n"
     ]
    }
   ],
   "source": [
    "correcao(\"O gato não saber ler direiti pq ele e laigo\")"
   ]
  },
  {
   "cell_type": "code",
   "execution_count": null,
   "id": "df1f743a-e4c3-455c-afb4-5d9a0c57a67a",
   "metadata": {},
   "outputs": [],
   "source": []
  }
 ],
 "metadata": {
  "kernelspec": {
   "display_name": "Python 3 (ipykernel)",
   "language": "python",
   "name": "python3"
  },
  "language_info": {
   "codemirror_mode": {
    "name": "ipython",
    "version": 3
   },
   "file_extension": ".py",
   "mimetype": "text/x-python",
   "name": "python",
   "nbconvert_exporter": "python",
   "pygments_lexer": "ipython3",
   "version": "3.11.11"
  }
 },
 "nbformat": 4,
 "nbformat_minor": 5
}
