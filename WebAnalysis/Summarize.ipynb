{
 "cells": [
  {
   "cell_type": "code",
   "execution_count": 1,
   "id": "7eb96ec6-7a93-4310-9ae6-ba07c1eb064e",
   "metadata": {},
   "outputs": [],
   "source": [
    "import os \n",
    "import requests\n",
    "import json \n",
    "from typing import List\n",
    "from dotenv import load_dotenv\n",
    "from bs4 import BeautifulSoup\n",
    "from IPython.display import Markdown, display, update_display\n",
    "from openai import OpenAI\n",
    "from web.webRead import Website"
   ]
  },
  {
   "cell_type": "code",
   "execution_count": 2,
   "id": "2ebc5963-8042-473b-b36b-e2b5f1a3dcac",
   "metadata": {},
   "outputs": [],
   "source": [
    "system_prompt = (\n",
    "    \"You are an assistant that analyzes the contents of a website \"\n",
    "    \"and provides a short summary, ignoring text that might be navigation related. \"\n",
    "    \"Respond in markdown. \"\n",
    "    \"You always answer in Portuguese (Brazilian Portuguese).\"\n",
    ")"
   ]
  },
  {
   "cell_type": "code",
   "execution_count": 4,
   "id": "18ca4618-3dfb-45be-8482-86a5389a568f",
   "metadata": {},
   "outputs": [],
   "source": [
    "def user_prompt_for(website):\n",
    "    user_prompt = f\"You are looking at a website title {website.title}\"\n",
    "    user_prompt += \"\\nThe contents of this website is as follows;\\\n",
    " please provide a short summary of this website in markdown\\\n",
    " if it includes news or annoucements, then summarize these too\\n\\n\"\n",
    "    user_prompt += website.text\n",
    "    return user_prompt"
   ]
  },
  {
   "cell_type": "code",
   "execution_count": 9,
   "id": "36b28835-b611-403d-8299-d46f6430eedf",
   "metadata": {},
   "outputs": [
    {
     "name": "stdout",
     "output_type": "stream",
     "text": [
      "API key found\n"
     ]
    }
   ],
   "source": [
    "load_dotenv(r'C:\\Users\\Gabriel\\Documents\\key\\key.env')\n",
    "api_key = os.getenv('OPENAI_API_KEY')\n",
    "\n",
    "if not api_key:\n",
    "    print(\"No API key was found\")\n",
    "else:\n",
    "    print(\"API key found\")\n",
    "openai = OpenAI()"
   ]
  },
  {
   "cell_type": "code",
   "execution_count": 10,
   "id": "e6f09dbf-020e-432b-aa60-f46ee0a5028a",
   "metadata": {},
   "outputs": [],
   "source": [
    "def messages_for(website):\n",
    "    return[\n",
    "        {\"role\": \"system\", \"content\": system_prompt},\n",
    "        {\"role\": \"user\", \"content\":user_prompt_for(website)},\n",
    "    ]"
   ]
  },
  {
   "cell_type": "code",
   "execution_count": 11,
   "id": "5a917441-213a-4f04-bd2d-ad73061ecd17",
   "metadata": {},
   "outputs": [],
   "source": [
    "def summarize(url):\n",
    "    website = Website(url)\n",
    "    response = openai.chat.completions.create(\n",
    "        model = \"gpt-4o-mini\",\n",
    "        messages = messages_for(website)\n",
    "    )\n",
    "    return response.choices[0].message.content"
   ]
  },
  {
   "cell_type": "code",
   "execution_count": 12,
   "id": "73fa3ee3-1c05-4930-a206-c9ff376b5fbd",
   "metadata": {},
   "outputs": [],
   "source": [
    "def display_summary(url): \n",
    "    summary = summarize(url)\n",
    "    display(Markdown(summary))"
   ]
  },
  {
   "cell_type": "code",
   "execution_count": 13,
   "id": "76024fec-2c69-41d5-b2e2-1a9db79453ca",
   "metadata": {},
   "outputs": [
    {
     "data": {
      "text/markdown": [
       "# Resumo do site GloboNews\n",
       "\n",
       "O **GloboNews** é um canal de notícias que está no ar 24 horas, trazendo as últimas informações, vídeos e análises sobre eventos atuais. A seguir, estão os principais destaques do conteúdo recente:\n",
       "\n",
       "## Destaques Recentes\n",
       "\n",
       "- **Segurança do RJ**: O secretário de Segurança do Rio de Janeiro admitiu a possibilidade de agentes do Estado estarem vazando informações para facções criminosas. (Postagem de 2 horas atrás)\n",
       "\n",
       "- **Condições Climáticas em SP**: O estado de São Paulo está em alerta severo devido a chuvas fortes, com risco de alagamentos e deslizamentos até o próximo domingo. (Postagem de 4 horas atrás)\n",
       "\n",
       "- **Empregos Temporários no Verão de 2025**: Expectativa de que o verão de 2025 gere até 76 mil vagas de emprego temporário no setor de turismo. (Postagem de 5 horas atrás)\n",
       "\n",
       "- **Alerta de Temporais em SP**: A capital paulista e regiões adjacentes, incluindo o litoral, estão em alerta para temporais com risco de alagamentos e deslizamentos. (Postagem de 7 horas atrás)\n",
       "\n",
       "- **Queda do Dólar**: A moeda americana fechou a R$ 5,86, apresentando sua sétima queda consecutiva. (Postagem de 9 horas atrás)\n",
       "\n",
       "- **Trabalho Escravo no Brasil**: O Brasil registrou um recorde de denúncias de trabalho escravo, com um relato impactante de uma vítima em uma palestra. (Postagem de 17 horas atrás)\n",
       "\n",
       "- **Eleições no Congresso**: Uma série especial do Jornal das Dez explora a importância das eleições para as mesas diretoras do Congresso Nacional e seu impacto no Brasil. (Postagem de 17 horas atrás) \n",
       "\n",
       "Essas reportagens e análises destacam a variedade de temas abordados pelo canal, desde segurança pública até economia e questões sociais."
      ],
      "text/plain": [
       "<IPython.core.display.Markdown object>"
      ]
     },
     "metadata": {},
     "output_type": "display_data"
    }
   ],
   "source": [
    "display_summary(\"https://g1.globo.com/globonews/\")"
   ]
  }
 ],
 "metadata": {
  "kernelspec": {
   "display_name": "Python 3 (ipykernel)",
   "language": "python",
   "name": "python3"
  },
  "language_info": {
   "codemirror_mode": {
    "name": "ipython",
    "version": 3
   },
   "file_extension": ".py",
   "mimetype": "text/x-python",
   "name": "python",
   "nbconvert_exporter": "python",
   "pygments_lexer": "ipython3",
   "version": "3.9.21"
  }
 },
 "nbformat": 4,
 "nbformat_minor": 5
}
