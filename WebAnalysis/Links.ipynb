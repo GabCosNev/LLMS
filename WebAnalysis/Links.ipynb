{
 "cells": [
  {
   "cell_type": "code",
   "execution_count": 1,
   "id": "224b2ab1-68b9-4927-aeb2-0b5b84312e5b",
   "metadata": {},
   "outputs": [],
   "source": [
    "import os \n",
    "import requests\n",
    "import json \n",
    "from typing import List\n",
    "from dotenv import load_dotenv\n",
    "from bs4 import BeautifulSoup\n",
    "from IPython.display import Markdown, display, update_display\n",
    "from openai import OpenAI\n",
    "from web.webRead import Website"
   ]
  },
  {
   "cell_type": "code",
   "execution_count": 2,
   "id": "00a18ce1-b5e7-4f6e-956d-f1c3b2ec7e63",
   "metadata": {},
   "outputs": [],
   "source": [
    "link_system_prompt = \"You are provided with a list of links found on a webpage. \\\n",
    "You ara able to decide which of the links would be most relevant to include in a brochure about the company, \\\n",
    "such as links to an about page, or a company page, or carrer/Jobs page.\\n\"\n",
    "link_system_prompt += \"You should repons in JSON as in this example:\"\n",
    "link_system_prompt += \"\"\"\n",
    "{\n",
    "    \"links\": [\n",
    "        {\"type\": \"about page\", \"url\": \"https://full.url/goes/here/about\"}\n",
    "        {\"type\": \"carrers page\", \"url\": \"https://another.full.url/careers\"}\n",
    "    ]\n",
    "}\n",
    "\"\"\""
   ]
  },
  {
   "cell_type": "code",
   "execution_count": 3,
   "id": "e272ece5-2ecb-4490-a1b9-822b914e8dc3",
   "metadata": {},
   "outputs": [],
   "source": [
    "def get_links_user_prompt(Website):\n",
    "    user_prompt = f\"Here is the list of links on the website of {Website.url} - \"\n",
    "    user_prompt += \"please decide which of these are relevant web links for a brochure about the company, respond with the full https URL in JSON format. \\\n",
    "Do not include Terms of Service, Privacy, email links.\\n\"\n",
    "    user_prompt += \"Links (some might be relative links):\\n\"\n",
    "    user_prompt += \"\\n\".join(Website.links)\n",
    "    return user_prompt"
   ]
  },
  {
   "cell_type": "code",
   "execution_count": 4,
   "id": "b783a621-b92f-4c7d-962a-e8860f0be9e1",
   "metadata": {},
   "outputs": [
    {
     "name": "stdout",
     "output_type": "stream",
     "text": [
      "API key found\n"
     ]
    }
   ],
   "source": [
    "load_dotenv(r'C:\\Users\\Gabriel\\Documents\\key\\key.env')\n",
    "api_key = os.getenv('OPENAI_API_KEY')\n",
    "\n",
    "if not api_key:\n",
    "    print(\"No API key was found\")\n",
    "else:\n",
    "    print(\"API key found\")\n",
    "openai = OpenAI()\n",
    "\n",
    "MODEL = 'gpt-4o-mini'"
   ]
  },
  {
   "cell_type": "code",
   "execution_count": 5,
   "id": "0c35ed70-115b-432c-96c1-68d3383d320b",
   "metadata": {},
   "outputs": [],
   "source": [
    "def get_links(url):\n",
    "    website = Website(url)\n",
    "    completion = openai.chat.completions.create(\n",
    "        \n",
    "        model = MODEL,\n",
    "        messages=[\n",
    "            {\"role\": \"system\", \"content\": link_system_prompt},\n",
    "            {\"role\": \"user\", \"content\": get_links_user_prompt(website)}\n",
    "        ],\n",
    "        response_format = {\"type\": \"json_object\"}\n",
    "        \n",
    "    )\n",
    "    result = completion.choices[0].message.content\n",
    "    return json.loads(result)"
   ]
  },
  {
   "cell_type": "code",
   "execution_count": 6,
   "id": "39488a7b-9b86-4365-b7fb-4baccefa5ea3",
   "metadata": {},
   "outputs": [
    {
     "data": {
      "text/plain": [
       "{'links': [{'type': 'about page', 'url': 'https://www.anthropic.com/company'},\n",
       "  {'type': 'careers page', 'url': 'https://www.anthropic.com/careers'},\n",
       "  {'type': 'team page', 'url': 'https://www.anthropic.com/team'},\n",
       "  {'type': 'research page', 'url': 'https://www.anthropic.com/research'},\n",
       "  {'type': 'enterprise page', 'url': 'https://www.anthropic.com/enterprise'},\n",
       "  {'type': 'api page', 'url': 'https://www.anthropic.com/api'},\n",
       "  {'type': 'pricing page', 'url': 'https://www.anthropic.com/pricing'},\n",
       "  {'type': 'news page', 'url': 'https://www.anthropic.com/news'}]}"
      ]
     },
     "execution_count": 6,
     "metadata": {},
     "output_type": "execute_result"
    }
   ],
   "source": [
    "get_links(\"https://anthropic.com\")"
   ]
  },
  {
   "cell_type": "code",
   "execution_count": 7,
   "id": "4de5444c-94a9-46cb-95e5-0c7f7cfaf491",
   "metadata": {},
   "outputs": [],
   "source": [
    "def get_all_details(url):\n",
    "    result = \"Landingpage:\\n\"\n",
    "    result += Website(url).get_title_text()\n",
    "    links = get_links(url)\n",
    "    print(\"Found links: \", links)\n",
    "    for link in links[\"links\"]:\n",
    "        result += f\"\\n\\n{link['type']}\\n\" \n",
    "        result += Website(link[\"url\"]).get_title_text()\n",
    "    return result"
   ]
  },
  {
   "cell_type": "code",
   "execution_count": 10,
   "id": "7e98dacd-03eb-4c8c-8d59-06efe0783bac",
   "metadata": {},
   "outputs": [],
   "source": [
    "system_prompt = \"You are an assistant that analyzes the contents of several relevant pages from a company website \\\n",
    "and creates a short brochure about the company for prospective customers, investors and recruits. Respond in markdown.\\\n",
    "Include details of company culture, customers and careers/jobs if you have the information.\""
   ]
  },
  {
   "cell_type": "code",
   "execution_count": 11,
   "id": "61d709f2-bc2d-42b8-a2c0-2bc1d7e68ad6",
   "metadata": {},
   "outputs": [],
   "source": [
    "def get_brochure_user_prompt(company_name, url):\n",
    "    user_prompt = f\"You are looking at a company called: {company_name}\\n\"\n",
    "    user_prompt += f\"Here are the contents of its landing page and other relevant pages; use this information to build a short brochure of the company in markdown.\\n\"\n",
    "    user_prompt += get_all_details(url)\n",
    "    user_prompt = user_prompt[:5_000] # Truncate if more than 5,000 characters\n",
    "    return user_prompt"
   ]
  },
  {
   "cell_type": "code",
   "execution_count": 12,
   "id": "a8ac067c-4ef2-4477-abcb-8c3ceab6eef2",
   "metadata": {},
   "outputs": [],
   "source": [
    "def create_brochure(company_name, url):\n",
    "    response = openai.chat.completions.create(\n",
    "        model=MODEL,\n",
    "        messages=[\n",
    "            {\"role\": \"system\", \"content\": system_prompt},\n",
    "            {\"role\": \"user\", \"content\": get_brochure_user_prompt(company_name, url)}\n",
    "          ],\n",
    "    )\n",
    "    result = response.choices[0].message.content\n",
    "    display(Markdown(result))"
   ]
  },
  {
   "cell_type": "code",
   "execution_count": 13,
   "id": "51023656-e022-465e-8d8f-58979338af60",
   "metadata": {},
   "outputs": [
    {
     "name": "stdout",
     "output_type": "stream",
     "text": [
      "Found links:  {'links': [{'type': 'about page', 'url': 'https://www.anthropic.com/company'}, {'type': 'careers page', 'url': 'https://www.anthropic.com/careers'}, {'type': 'team page', 'url': 'https://www.anthropic.com/team'}, {'type': 'research page', 'url': 'https://www.anthropic.com/research'}, {'type': 'product page', 'url': 'https://www.anthropic.com/enterprise'}]}\n"
     ]
    },
    {
     "data": {
      "text/markdown": [
       "# Anthropic Company Brochure\n",
       "\n",
       "Welcome to Anthropic, an AI safety and research company dedicated to creating reliable, interpretable, and steerable AI systems. Our work is more than just building technology; it's about ensuring that AI systems can be depended upon as we navigate the complexities of their impacts on society.\n",
       "\n",
       "## Our Purpose\n",
       "\n",
       "At Anthropic, we understand that AI will have a significant impact on the world. Our mission is to build frontier AI systems that prioritize safety, and to conduct rigorous research to understand both the opportunities and risks associated with AI. We strive to develop systems that promote not only progress but also the well-being of people and society as a whole.\n",
       "\n",
       "## Our Products\n",
       "\n",
       "### Claude\n",
       "Meet Claude, our advanced AI model known for its intelligence and reliability. Currently featuring:\n",
       "- **Claude 3.5 Sonnet** – Our most intelligent model to date.\n",
       "- **Claude 3.5 Haiku** – A new addition to the Claude family.\n",
       "\n",
       "These AI systems are designed for various applications across industries, powered by our API, and tailored to meet customer needs in enterprises, nonprofits, and more.\n",
       "\n",
       "## AI Safety\n",
       "\n",
       "Anthropic treats AI safety as a science. We conduct innovative research, apply our findings to our systems, and continuously engage with the broader community to share insights. Our interdisciplinary team is dedicated to frontier research in AI safety, including topics such as interpretability and reinforcement learning from human feedback.\n",
       "\n",
       "## Culture and Values\n",
       "\n",
       "At Anthropic, our culture is built on collaboration and trust. Here are our core values:\n",
       "\n",
       "1. **Here for the Mission**: We focus on ensuring that transformative AI contributes positively to society. \n",
       "2. **Unusually High Trust**: We cultivate an environment where honesty and good intentions are the norm, fostering emotional maturity and intellectual openness.\n",
       "3. **One Big Team**: We value collaboration across diverse teams, recognizing that our collective efforts lead to superior outcomes.\n",
       "\n",
       "## Careers at Anthropic\n",
       "\n",
       "Join our talented team of engineers, researchers, policy experts, and operational leaders committed to building the future of AI. We're looking for innovative thinkers who share our vision of safe and beneficial AI systems. Explore our open roles [here](#) and see how you can contribute to our mission!\n",
       "\n",
       "## Who We Serve\n",
       "\n",
       "Our products benefit a wide range of customers, including:\n",
       "- **Businesses** seeking reliable AI solutions\n",
       "- **Nonprofits** helping communities thrive\n",
       "- **Educational institutions** advancing their research capabilities\n",
       "\n",
       "## Connect With Us\n",
       "\n",
       "Stay updated with our latest research and products by following us on our social media platforms or visiting our [website](#).\n",
       "\n",
       "---\n",
       "\n",
       "Become part of the changing landscape of AI with Anthropic – where safety meets innovation."
      ],
      "text/plain": [
       "<IPython.core.display.Markdown object>"
      ]
     },
     "metadata": {},
     "output_type": "display_data"
    }
   ],
   "source": [
    "create_brochure(\"Anthropic\", \"https://anthropic.com\")"
   ]
  },
  {
   "cell_type": "code",
   "execution_count": null,
   "id": "ac72889a-c3cc-4d5a-b421-7a53fe58e28a",
   "metadata": {},
   "outputs": [],
   "source": []
  }
 ],
 "metadata": {
  "kernelspec": {
   "display_name": "Python 3 (ipykernel)",
   "language": "python",
   "name": "python3"
  },
  "language_info": {
   "codemirror_mode": {
    "name": "ipython",
    "version": 3
   },
   "file_extension": ".py",
   "mimetype": "text/x-python",
   "name": "python",
   "nbconvert_exporter": "python",
   "pygments_lexer": "ipython3",
   "version": "3.9.21"
  }
 },
 "nbformat": 4,
 "nbformat_minor": 5
}
