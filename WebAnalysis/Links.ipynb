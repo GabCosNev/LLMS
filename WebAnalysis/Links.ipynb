{
 "cells": [
  {
   "cell_type": "code",
   "execution_count": 1,
   "id": "224b2ab1-68b9-4927-aeb2-0b5b84312e5b",
   "metadata": {},
   "outputs": [],
   "source": [
    "import os \n",
    "import requests\n",
    "import json \n",
    "from typing import List\n",
    "from dotenv import load_dotenv\n",
    "from bs4 import BeautifulSoup\n",
    "from IPython.display import Markdown, display, update_display\n",
    "from openai import OpenAI\n",
    "from web.webRead import Website"
   ]
  },
  {
   "cell_type": "code",
   "execution_count": 2,
   "id": "00a18ce1-b5e7-4f6e-956d-f1c3b2ec7e63",
   "metadata": {},
   "outputs": [],
   "source": [
    "link_system_prompt = \"You are provided with a list of links found on a webpage. \\\n",
    "You ara able to decide which of the links would be most relevant to include in a brochure about the company, \\\n",
    "such as links to an about page, or a company page, or carrer/Jobs page.\\n\"\n",
    "link_system_prompt += \"You should repons in JSON as in this example:\"\n",
    "link_system_prompt += \"\"\"\n",
    "{\n",
    "    \"links\": [\n",
    "        {\"type\": \"about page\", \"url\": \"https://full.url/goes/here/about\"}\n",
    "        {\"type\": \"carrers page\", \"url\": \"https://another.full.url/careers\"}\n",
    "    ]\n",
    "}\n",
    "\"\"\""
   ]
  },
  {
   "cell_type": "code",
   "execution_count": 3,
   "id": "e272ece5-2ecb-4490-a1b9-822b914e8dc3",
   "metadata": {},
   "outputs": [],
   "source": [
    "def get_links_user_prompt(Website):\n",
    "    user_prompt = f\"Here is the list of links on the website of {Website.url} - \"\n",
    "    user_prompt += \"please decide which of these are relevant web links for a brochure about the company, respond with the full https URL in JSON format. \\\n",
    "Do not include Terms of Service, Privacy, email links.\\n\"\n",
    "    user_prompt += \"Links (some might be relative links):\\n\"\n",
    "    user_prompt += \"\\n\".join(Website.links)\n",
    "    return user_prompt"
   ]
  },
  {
   "cell_type": "code",
   "execution_count": 4,
   "id": "b783a621-b92f-4c7d-962a-e8860f0be9e1",
   "metadata": {},
   "outputs": [
    {
     "name": "stdout",
     "output_type": "stream",
     "text": [
      "API key found\n"
     ]
    }
   ],
   "source": [
    "load_dotenv(r'C:\\Users\\Gabriel\\Documents\\key\\key.env')\n",
    "api_key = os.getenv('OPENAI_API_KEY')\n",
    "\n",
    "if not api_key:\n",
    "    print(\"No API key was found\")\n",
    "else:\n",
    "    print(\"API key found\")\n",
    "openai = OpenAI()\n",
    "\n",
    "MODEL = 'gpt-4o-mini'"
   ]
  },
  {
   "cell_type": "code",
   "execution_count": 5,
   "id": "0c35ed70-115b-432c-96c1-68d3383d320b",
   "metadata": {},
   "outputs": [],
   "source": [
    "def get_links(url):\n",
    "    website = Website(url)\n",
    "    completion = openai.chat.completions.create(\n",
    "        \n",
    "        model = MODEL,\n",
    "        messages=[\n",
    "            {\"role\": \"system\", \"content\": link_system_prompt},\n",
    "            {\"role\": \"user\", \"content\": get_links_user_prompt(website)}\n",
    "        ],\n",
    "        response_format = {\"type\": \"json_object\"}\n",
    "    )\n",
    "    result = completion.choices[0].message.content\n",
    "    return json.loads(result)"
   ]
  },
  {
   "cell_type": "code",
   "execution_count": 6,
   "id": "39488a7b-9b86-4365-b7fb-4baccefa5ea3",
   "metadata": {},
   "outputs": [
    {
     "data": {
      "text/plain": [
       "{'links': [{'type': 'about page', 'url': 'https://www.anthropic.com/company'},\n",
       "  {'type': 'careers page', 'url': 'https://www.anthropic.com/careers'},\n",
       "  {'type': 'team page', 'url': 'https://www.anthropic.com/team'},\n",
       "  {'type': 'research page', 'url': 'https://www.anthropic.com/research'},\n",
       "  {'type': 'enterprise page', 'url': 'https://www.anthropic.com/enterprise'},\n",
       "  {'type': 'api page', 'url': 'https://www.anthropic.com/api'},\n",
       "  {'type': 'pricing page', 'url': 'https://www.anthropic.com/pricing'},\n",
       "  {'type': 'news page', 'url': 'https://www.anthropic.com/news'}]}"
      ]
     },
     "execution_count": 6,
     "metadata": {},
     "output_type": "execute_result"
    }
   ],
   "source": [
    "get_links(\"https://anthropic.com\")"
   ]
  },
  {
   "cell_type": "code",
   "execution_count": 7,
   "id": "4de5444c-94a9-46cb-95e5-0c7f7cfaf491",
   "metadata": {},
   "outputs": [],
   "source": [
    "def get_all_details(url):\n",
    "    result = \"Landingpage:\\n\"\n",
    "    result += Website(url).get_title_text()\n",
    "    links = get_links(url)\n",
    "    print(\"Found links: \", links)\n",
    "    for link in links[\"links\"]:\n",
    "        result += f\"\\n\\n{link['type']}\\n\" \n",
    "        result += Website(link[\"url\"]).get_title_text()\n",
    "    return result"
   ]
  },
  {
   "cell_type": "code",
   "execution_count": 9,
   "id": "7bd03927-6837-43f4-9692-46b82f99de00",
   "metadata": {},
   "outputs": [
    {
     "name": "stdout",
     "output_type": "stream",
     "text": [
      "Found links:  {'links': [{'type': 'company page', 'url': 'https://www.anthropic.com/company'}, {'type': 'careers page', 'url': 'https://www.anthropic.com/careers'}, {'type': 'team page', 'url': 'https://www.anthropic.com/team'}, {'type': 'research page', 'url': 'https://www.anthropic.com/research'}, {'type': 'news page', 'url': 'https://www.anthropic.com/news'}, {'type': 'Claude product page', 'url': 'https://www.anthropic.com/claude'}]}\n"
     ]
    },
    {
     "data": {
      "text/plain": [
       "'Landingpage:\\nWebpage Title:\\n Home \\\\ Anthropic\\nWebpage Contents:\\nClaude\\nOverview\\nTeam\\nEnterprise\\nAPI\\nPricing\\nResearch\\nCompany\\nCareers\\nNews\\nTry Claude\\nAI\\nresearch\\nand\\nproducts\\nthat put safety at the frontier\\nClaude.ai\\nMeet Claude 3.5 Sonnet\\nClaude 3.5 Sonnet, our most intelligent AI model, is now available.\\nTalk to Claude\\nAPI\\nBuild with Claude\\nCreate AI-powered applications and custom experiences using Claude.\\nLearn more\\nAnnouncements\\nIntroducing computer use, a new Claude 3.5 Sonnet, and Claude 3.5 Haiku\\nOct 22, 2024\\nModel updates\\n3.5 Sonnet\\n3.5 Haiku\\nOur Work\\nProduct\\nClaude for Enterprise\\nSep 4, 2024\\nAlignment\\n·\\nResearch\\nConstitutional AI: Harmlessness from AI Feedback\\nDec 15, 2022\\nAnnouncements\\nCore Views on AI Safety: When, Why, What, and How\\nMar 8, 2023\\nWork with Anthropic\\nAnthropic is an AI safety and research company based in San Francisco. Our interdisciplinary team has experience across ML, physics, policy, and product. Together, we generate research and create reliable, beneficial AI systems.\\nSee open roles\\nClaude\\nAPI\\nTeam\\nPricing\\nResearch\\nCompany\\nCustomers\\nNews\\nCareers\\nPress Inquiries\\nSupport\\nStatus\\nAvailability\\nTwitter\\nLinkedIn\\nYouTube\\nTerms of Service – Consumer\\nTerms of Service – Commercial\\nPrivacy Policy\\nUsage Policy\\nResponsible Disclosure Policy\\nCompliance\\nPrivacy Choices\\n© 2025 Anthropic PBC\\n\\n\\n\\ncompany page\\nWebpage Title:\\n Company \\\\ Anthropic\\nWebpage Contents:\\nClaude\\nOverview\\nTeam\\nEnterprise\\nAPI\\nPricing\\nResearch\\nCompany\\nCareers\\nNews\\nTry Claude\\nMaking AI systems\\nyou can rely on\\nAnthropic is an AI safety and research company. We build reliable, interpretable, and steerable AI systems.\\nJoin us\\nOur Purpose\\nWe believe AI will have a vast impact on the world. Anthropic is dedicated to building systems that people can rely on and generating research about the opportunities and risks of AI.\\nWe Build Safer Systems\\nWe aim to build frontier AI systems that are reliable, interpretable, and steerable. We conduct frontier research, develop and apply a variety of safety techniques, and deploy the resulting systems via a set of partnerships and products.\\nSafety Is a Science\\nWe treat AI safety as a systematic science, conducting research, applying it to our products, feeding those insights back into our research, and regularly sharing what we learn with the world along the way.\\nInterdisciplinary\\nAnthropic is a collaborative team of researchers, engineers, policy experts, business leaders and operators, who bring our experience from many different domains to our work.\\nAI Companies are One Piece of a Big Puzzle\\nAI has the potential to fundamentally change how the world works. We view ourselves as just one piece of this evolving puzzle. We collaborate with civil society, government, academia, nonprofits and industry to promote safety industry-wide.\\nThe Team\\nWe’re a team of researchers, engineers, policy experts and operational leaders, with experience spanning a variety of disciplines, all working together to build reliable and understandable AI systems.\\nResearch\\nWe conduct frontier AI research across a variety of modalities, and explore novel and emerging safety research areas from interpretability to RL from human feedback to policy and societal impacts analysis.\\nPolicy\\nWe think about the impacts of our work and strive to communicate what we’re seeing at the frontier to policymakers and civil society in the US and abroad to help promote safe and reliable AI.\\nProduct\\nWe translate our research into tangible, practical tools like Claude that benefit businesses, nonprofits and civil society groups and their clients and people around the globe.\\nOperations\\nOur people, finance, legal, and recruiting teams are the human engines that make Anthropic go. We’ve had previous careers at NASA, startups, and the armed forces and our diverse experiences help make Anthropic a great place to work (and we love plants!).\\nOur Values\\n01\\nHere for the mission\\nAnthropic exists for our mission: to ensure transformative AI helps people and society flourish. Progress this decade may be rapid, and we expect increasingly capable systems to pose novel challenges. We pursue our mission by building frontier systems, studying their behaviors, working to responsibly deploy them, and regularly sharing our safety insights. We collaborate with other projects and stakeholders seeking a similar outcome.\\n02\\nUnusually high trust\\nOur company is an unusually high trust environment: we assume good faith, disagree kindly, and prioritize honesty. We expect emotional maturity and intellectual openness. At its best, our trust enables us to make better decisions as an organization than any one of us could as individuals.\\n03\\nOne big team\\nCollaboration is central to our work, culture, and value proposition. While we have many teams at Anthropic, we feel the broader sense in which we are all on the same team working together towards the mission. Leadership sets the strategy, with broad input from everyone, and trusts each piece of the organization to pursue these goals in their unique style. Individuals commonly contribute to work across many different areas.\\n04\\nDo the simple thing that works\\nWe celebrate trying the simple thing before the clever, novel thing. We embrace pragmatism - sensible, practical approaches that acknowledge tradeoffs. We love empiricism - finding out what actually works by trying it - and apply this to our research, our engineering and our collaboration. We aim to be open about what we understand and what we don’t.\\nGovernance\\nAnthropic is a Public Benefit Corporation, whose purpose is the responsible development and maintenance of advanced AI for the long-term benefit of humanity. Our Board of Directors is elected by stockholders and our Long-Term Benefit Trust, as explained\\nhere.\\nCurrent members of the Board and the Long-Term Benefit Trust (LTBT) are listed below.\\nAnthropic Board of Directors\\nDario Amodei, Daniela Amodei, Yasmin Razavi, and Jay Kreps.\\nLTBT Trustees\\nNeil Buddy Shah, Kanika Bahl, and Zach Robinson.\\nCompany News\\nSee All\\nAnnouncements\\nAnthropic achieves ISO 42001 certification for responsible AI\\nJan 13, 2025\\nAnnouncements\\nIntroducing the Model Context Protocol\\nNov 25, 2024\\nAnnouncements\\nPowering the next generation of AI development with AWS\\nNov 22, 2024\\nWant to help us build the future of safe AI?\\nJoin us\\nClaude\\nAPI\\nTeam\\nPricing\\nResearch\\nCompany\\nCustomers\\nNews\\nCareers\\nPress Inquiries\\nSupport\\nStatus\\nAvailability\\nTwitter\\nLinkedIn\\nYouTube\\nTerms of Service – Consumer\\nTerms of Service – Commercial\\nPrivacy Policy\\nUsage Policy\\nResponsible Disclosure Policy\\nCompliance\\nPrivacy Choices\\n© 2025 Anthropic PBC\\n\\n\\n\\ncareers page\\nWebpage Title:\\n Careers \\\\ Anthropic\\nWebpage Contents:\\nClaude\\nOverview\\nTeam\\nEnterprise\\nAPI\\nPricing\\nResearch\\nCompany\\nCareers\\nNews\\nTry Claude\\nJoin the team\\nmaking AI safe\\nWe’re a public benefit corporation headquartered in San Francisco. Our team’s experience spans a variety of backgrounds and disciplines, from physics and machine learning to public policy and business. We work as a cohesive team that collectively forecasts the impact and tractability of research ideas in advancing our mission.\\nSee open roles\\nOur co-founders discuss the origins of Anthropic, the \"race to the top\" in AI development, and where AI technology will go from here.\\nWhat We Offer\\nHealth & Wellness\\nAt Anthropic, we believe that supporting our employees is crucial to our collective success and wellbeing. That\\'s why we offer a range of benefits to best support you and your family, now and in the future.\\nComprehensive health, dental, and vision insurance for you and your dependents\\nInclusive fertility benefits via Carrot Fertility\\n22 weeks of paid parental leave\\nFlexible paid time off and absence policies\\nGenerous mental health support for you and your dependents\\nCompensation & Support\\nOur goal is to foster an environment where you can thrive professionally while feeling confident that you and your loved ones are taken care of.\\nCompetitive salary and equity packages\\nOptional equity donation matching at a 1:1 ratio, up to 25% of your equity grant\\nRobust retirement plans and salary sacrifice programs with market competitive matching\\nLife and income protection plans\\nAdditional Benefits\\n$500/month flexible wellness and time saver stipend\\nCommuter benefits\\nAnnual education stipend\\nHome office stipends\\nRelocation support for those moving for Anthropic\\nDaily meals and snacks in the office\\nWhat we value and how we act\\nEvery day, we make critical decisions that inform our ability to achieve our mission. Shaping the future of AI and, in turn, the future of our world is a responsibility and a privilege. Our values guide how we work together, the decisions we make, and ultimately how we show up for each other and work toward our mission.\\nAct for the global good.\\nWe strive to make decisions that maximize positive outcomes for humanity in the long run. This means we’re willing to be very bold in the actions we take to ensure our technology is a robustly positive force for good. We take seriously the task of safely guiding the world through a technological revolution that has the potential to change the course of human history, and are committed to helping make this transition go well.\\nHold light and shade.\\nAI has the potential to pose unprecedented risks to humanity if things go badly. It also has the potential to create unprecedented benefits for humanity if things go well. We need shade to understand and protect against the potential for bad outcomes. We need light to realize the good outcomes.\\nBe good to our users.\\nAt Anthropic, we define “users” broadly. Users are our customers, policy-makers, Ants, and anyone impacted by the technology we build or the actions we take. We cultivate generosity and kindness in all our interactions — with each other, with our users, and with the world at large. Going above and beyond for each other, our customers, and all of the people affected by our technology is meeting expectations.\\nIgnite a race to the top on safety.\\nAs a safety-first company, we believe that building reliable, trustworthy, and secure systems is our collective responsibility - and the market agrees. We work to inspire a ‘race to the top’ dynamic where AI developers must compete to develop the most safe and secure AI systems. We want to constantly set the industry bar for AI safety and security and drive others to do the same.\\nDo the simple thing that works.\\nWe take an empirical approach to problems and care about the size of our impact and not the sophistication of our methods. This doesn’t mean we throw together haphazard solutions. It means we try to identify the simplest solution and iterate from there. We don’t invent a spaceship if all we need is a bicycle.\\nBe helpful, honest, and harmless.\\nAnthropic is a high-trust, low-ego organization. We communicate kindly and directly, assuming good intentions even in disagreement. We are thoughtful about our actions, avoiding harm and repairing relationships when needed. Everyone contributes, regardless of role. If something urgently needs to be done, the right person to do it is probably you!\\nPut the mission first.\\nAt the end of the day, the mission is what we’re all here for. It gives us a shared purpose and allows us to act swiftly together, rather than being pulled in multiple directions by competing goals. It engenders trust and collaboration and is the final arbiter in our decisions. When it comes to our mission, none of us are bystanders. We each take personal ownership over making our mission successful.\\nTechnical Interviews\\nThe novel challenges we think about at Anthropic demand diverse expertise and perspectives. Our interview process is designed to identify thoughtful candidates who bring unique strengths to our multidisciplinary team. If you think this may describe you, we’d love to hear from you regardless of your background or experience.\\nOne of the most common questions we get is about whether it is worth applying to work at Anthropic if you have not worked on modern machine learning systems in the past. Yes! For some roles, ML experience is expected, but many technical staff have arrived at Anthropic with no machine learning experience. If you aren’t sure about the ML experience needed for your role, ask your recruiter.\\nWe use shared environments like Colab and Replit for our programming-focused interviews. We’ll be very interested in how you think through each problem and analyze the tradeoffs between possible approaches, and we’ll also expect you to write, run, and debug your solutions. You’ll be allowed to look things up in documentation or on the web, just like you usually can (which is why we’ll ask you to share your screen throughout each interview); but it’s still important to be familiar with basic syntax, standard libraries, and common idioms in the language you’re interviewing in, so that looking things up doesn’t consume too much time. Your interview process will also include non-technical questions about your experience and what motivates you, and, of course, you’ll have time to ask us about Anthropic! We can’t wait to meet you.\\nOther Things\\nEngineers here do lots of research, and researchers do lots of engineering\\nWhile there’s historically been a division between engineering and research in machine learning, we think that boundary has dissolved with the advent of large models. The distribution of candidates we interview is strongly bimodal in both engineering and research experience however, and we have necessarily tailored our interview structure to that.\\nIf you’ve an engineering background, please apply as an engineer. You’ll perform much better in the interviews, and if you join you’ll have as much input to Anthropic’s direction and interests as anyone else.\\nAs evidence towards this: all of our papers have engineers as authors, and often as first author. Research and engineering hires all share a single title - ‘Member of Technical Staff’.\\nWe value direct evidence of ability\\nIf you’ve done interesting independent research, written an insightful blog post, or made substantial contributions to open-source software, put that at the top of your resume!\\nFeedback\\nWe do not provide feedback on resumes or interviews.\\nVisas\\nAnthropic sponsors visas! We aren\\'t able to sponsor them for every role and every candidate; operations roles are especially difficult to support. But if we make you an offer, we will make every effort to get you into the United States, and we retain an immigration lawyer to help with this.\\nGreen cards\\nOnce you’re eligible, we’re also keen to sponsor green cards!\\nEducational backgrounds and experience vary across our team and across our roles.\\nWe do not require\\nPhDs or previous ML experience\\n— About half of Anthropic technical staff have a PhD of some sort; about half had prior experience in ML. We have several brilliant colleagues who never went to college.\\nRemote interviewing\\nAll our interviews are conducted over Google Meet. We prefer PST office hours, but we can be flexible if that’s difficult for you.\\nRe-applying\\nSimilarly, if interviews don’t work out this time, you’re welcome to re-apply after 12 months, and earlier if something materially changes about your experience or skills.\\nRemote work\\nAnthropic staff all come to the office regularly. Most staff live in the Bay Area, though a few live further away and come in for one week a month. We also understand that moving can take time, so as a transitional phase some folks start while fully remote.\\nOffer timing\\nIf we make an offer, we’re happy to give you time to think about it and finish up any other interview processes you’re going through.\\nInternships\\nWe do not offer internships.\\nCandidate Privacy Policy\\nUS Candidate Privacy Policy\\nUK Employee and Candidate Privacy Policy\\nClaude\\nAPI\\nTeam\\nPricing\\nResearch\\nCompany\\nCustomers\\nNews\\nCareers\\nPress Inquiries\\nSupport\\nStatus\\nAvailability\\nTwitter\\nLinkedIn\\nYouTube\\nTerms of Service – Consumer\\nTerms of Service – Commercial\\nPrivacy Policy\\nUsage Policy\\nResponsible Disclosure Policy\\nCompliance\\nPrivacy Choices\\n© 2025 Anthropic PBC\\n\\n\\n\\nteam page\\nWebpage Title:\\n Team up with Claude \\\\ Anthropic\\nWebpage Contents:\\nClaude\\nOverview\\nTeam\\nEnterprise\\nAPI\\nPricing\\nResearch\\nCompany\\nCareers\\nNews\\nTry Claude\\nTeam up with Claude\\nShorten the path from idea to impact with an AI assistant that taps into your team’s shared expertise.\\nGet started\\nRequest demo\\nEasy collaboration for better outcomes\\nClaude doesn’t just speed up daily tasks like writing emails or docs. It’s a virtual teammate that moves work forward using your team’s knowledge.\\nCreate with Claude\\nClaude can be a sounding board for your ideas, help you generate new ones, and pull insights from data in a snap.\\nPrime the canvas\\nUse Projects to ground Claude in specific knowledge that helps you produce higher-quality work with less effort.\\nSpark inspiration\\nShare your best chats with Claude across the team to spark creativity and improve your project deliverables.\\nTransform how you work\\nClaude makes work more productive—whether you need a partner for deep work, a creative collaborator, or an assistant for daily tasks.\\nCreate with Claude\\nDraft and iterate on documents, code and websites, and images alongside your chat with Artifacts.\\nWrite and debug code\\nCreate marketing campaigns\\nDraft job descriptions\\nBuild interactive visualizations\\nTransform how your team works\\nClaude can serve as your go-to expert, empowering each team member with shared knowledge from all across the organization.\\nPrime the canvas\\nCreate Projects and add knowledge so each person on the team can deliver expert-level results.\\nFind and summarize information faster\\nUse Claude as your subject-matter expert\\nExpand how each teammate can contribute\\nSpark inspiration\\nShare your best chats with everyone on the Project to spark better ideas, iterate on Artifacts, and move work forward.\\nBrainstorm on new product ideas\\nDiscuss insights from user interviews\\nCollaborate on hard research questions\\nEvery team can work with Claude\\nEngineering\\nGenerate code snippets in seconds\\nCreate clear, comprehensive docs with no effort\\nGet help debugging even the most complex issues\\nTurn product feedback into roadmap items faster\\nSupport\\nResolve customer issues in record time\\nCraft personalized responses effortlessly\\nBuild a dynamic, user-friendly knowledge base\\nGenerate insightful metrics reports instantly\\nMarketing\\nCreate engaging content tailored to your audience\\nSegment customers with pinpoint accuracy\\nAnalyze competitors with unparalleled depth\\nOptimize campaigns for maximum ROI\\nSales\\nCustomize pitches for any customer segment\\nUncover hidden sales trends effortlessly\\nDraft compelling follow-up emails in seconds\\nGet comprehensive competitor insights on demand\\nBy leveraging content from our help center in Projects, we were able to generate comprehensive standard operating procedures for our core workflows in just a few hours—a task that previously took our team weeks to complete.\\nBradley Silicani\\nCOO, Anrok\\nClaude Team is transforming our way of working at North Highland. Claude is a truly exceptional writer that has helped our team complete content creation and analysis tasks up to 5x faster than before—turning what was once two weeks of writing and research into minutes of work.\\nLuka Anic\\nSenior Director, Technical AI Program and Product Manager, North Highland\\nGenerating content, completing creative tasks, and creating summarized reports is much easier than before. There are many other areas of our business—like engineering, legal, risk and compliance—where we\\'re excited to see what Claude can do.\\nOlga Pirog\\nHead of AI Transformation, IG Group\\nJoin the teams transforming with Claude\\nSee Pricing\\nClaude\\nAPI\\nTeam\\nPricing\\nResearch\\nCompany\\nCustomers\\nNews\\nCareers\\nPress Inquiries\\nSupport\\nStatus\\nAvailability\\nTwitter\\nLinkedIn\\nYouTube\\nTerms of Service – Consumer\\nTerms of Service – Commercial\\nPrivacy Policy\\nUsage Policy\\nResponsible Disclosure Policy\\nCompliance\\nPrivacy Choices\\n© 2025 Anthropic PBC\\n\\n\\n\\nresearch page\\nWebpage Title:\\n Research \\\\ Anthropic\\nWebpage Contents:\\nClaude\\nOverview\\nTeam\\nEnterprise\\nAPI\\nPricing\\nResearch\\nCompany\\nCareers\\nNews\\nTry Claude\\nResearching\\nat the frontier\\nAt Anthropic, we develop large-scale AI systems, and our research teams help us to create safer, steerable, and more reliable models.\\nSee open roles\\nClaude\\nAPI\\nTeam\\nPricing\\nResearch\\nCompany\\nCustomers\\nNews\\nCareers\\nPress Inquiries\\nSupport\\nStatus\\nAvailability\\nTwitter\\nLinkedIn\\nYouTube\\nTerms of Service – Consumer\\nTerms of Service – Commercial\\nPrivacy Policy\\nUsage Policy\\nResponsible Disclosure Policy\\nCompliance\\nPrivacy Choices\\n© 2025 Anthropic PBC\\n\\n\\n\\nnews page\\nWebpage Title:\\n Newsroom \\\\ Anthropic\\nWebpage Contents:\\nClaude\\nOverview\\nTeam\\nEnterprise\\nAPI\\nPricing\\nResearch\\nCompany\\nCareers\\nNews\\nTry Claude\\nNewsroom\\nFeatured\\nPowering the next generation of AI development with AWS\\nPress inquiries\\npress@anthropic.com\\nNon-media inquiries\\nsupport.anthropic.com\\nMedia assets\\nDownload press kit\\nFollow Anthropic\\nFeatured\\nAnnouncing our updated Responsible Scaling Policy\\nFeatured\\nDeveloping a computer use model\\nNews\\nNo results found.\\nProduct\\nIntroducing Citations on the Anthropic API\\nJan 23, 2025\\nAnnouncements\\nAnthropic achieves ISO 42001 certification for responsible AI\\nJan 13, 2025\\nAlignment\\nAlignment faking in large language models\\nDec 18, 2024\\nSocietal Impacts\\nElections and AI in 2024: observations and learnings\\nDec 12, 2024\\nProduct\\nClaude 3.5 Haiku on AWS Trainium2 and model distillation in Amazon Bedrock\\nDec 3, 2024\\nProduct\\nTailor Claude’s responses to your personal style\\nNov 26, 2024\\nAnnouncements\\nIntroducing the Model Context Protocol\\nNov 25, 2024\\nAnnouncements\\nPowering the next generation of AI development with AWS\\nNov 22, 2024\\nProduct\\nImprove your prompts in the developer console\\nNov 14, 2024\\nPolicy\\nThe case for targeted regulation\\nOct 31, 2024\\nProduct\\nRaising the bar on SWE-bench Verified with Claude 3.5 Sonnet\\nOct 30, 2024\\nAnnouncements\\nClaude 3.5 Sonnet on GitHub Copilot\\nOct 29, 2024\\nProduct\\nIntroducing the analysis tool in Claude.ai\\nOct 24, 2024\\nAnnouncements\\n·\\nProduct\\nDeveloping a computer use model\\nOct 22, 2024\\nAnnouncements\\nIntroducing computer use, a new Claude 3.5 Sonnet, and Claude 3.5 Haiku\\nOct 22, 2024\\nAnnouncements\\nAnnouncing our updated Responsible Scaling Policy\\nOct 15, 2024\\nSocietal Impacts\\nU.S. Elections Readiness\\nOct 8, 2024\\nProduct\\nIntroducing the Message Batches API\\nOct 8, 2024\\nProduct\\n·\\nAnnouncements\\nIntroducing Contextual Retrieval\\nSep 19, 2024\\nProduct\\nWorkspaces in the Anthropic API Console\\nSep 10, 2024\\nProduct\\nClaude for Enterprise\\nSep 4, 2024\\nAnnouncements\\nSalesforce teams up with Anthropic to enhance Einstein capabilities with Claude\\nSep 3, 2024\\nAnnouncements\\nArtifacts are now generally available\\nAug 27, 2024\\nProduct\\nPrompt caching with Claude\\nAug 14, 2024\\nAnnouncements\\nExpanding our model safety bug bounty program\\nAug 8, 2024\\nAnnouncements\\nClaude is now available in Brazil\\nAug 1, 2024\\nAnnouncements\\nAnthropic partners with Menlo Ventures to launch Anthology Fund\\nJul 17, 2024\\nProduct\\nClaude Android app\\nJul 16, 2024\\nProduct\\nFine-tune Claude 3 Haiku in Amazon Bedrock\\nJul 11, 2024\\nProduct\\nEvaluate prompts in the developer console\\nJul 9, 2024\\nAnnouncements\\nA new initiative for developing third-party model evaluations\\nJul 1, 2024\\nAnnouncements\\nExpanding access to Claude for government\\nJun 26, 2024\\nProduct\\nCollaborate with Claude on Projects\\nJun 25, 2024\\nAnnouncements\\nClaude 3.5 Sonnet\\nJun 21, 2024\\nPolicy\\nChallenges in red teaming AI systems\\nJun 12, 2024\\nPolicy\\n·\\nSocietal Impacts\\nTesting and mitigating elections-related risks\\nJun 6, 2024\\nAnnouncements\\nIntroducing Claude to Canada\\nJun 5, 2024\\nProduct\\nClaude can now use tools\\nMay 30, 2024\\nAnnouncements\\nJay Kreps appointed to Anthropic\\'s Board of Directors\\nMay 29, 2024\\nProduct\\nGolden Gate Claude\\nMay 23, 2024\\nAnnouncements\\nKrishna Rao joins Anthropic as Chief Financial Officer\\nMay 21, 2024\\nInterpretability\\nMapping the Mind of a Large Language Model\\nMay 21, 2024\\nProduct\\nGenerate better prompts in the developer console\\nMay 20, 2024\\nPolicy\\nReflections on our Responsible Scaling Policy\\nMay 20, 2024\\nAnnouncements\\nMike Krieger joins Anthropic as Chief Product Officer\\nMay 15, 2024\\nAnnouncements\\nClaude is now available in Europe\\nMay 14, 2024\\nAnnouncements\\nUpdating our Usage Policy\\nMay 10, 2024\\nProduct\\n·\\nAnnouncements\\nIntroducing the Claude Team plan and iOS app\\nMay 1, 2024\\nAnnouncements\\nAligning on child safety principles\\nApr 23, 2024\\nAlignment\\nMany-shot jailbreaking\\nApr 2, 2024\\nPolicy\\nThird-party testing as a key ingredient of AI policy\\nMar 25, 2024\\nAnnouncements\\nAnthropic, AWS, and Accenture team up to build trusted solutions for enterprises\\nMar 20, 2024\\nAnnouncements\\nClaude 3 models on Vertex AI\\nMar 19, 2024\\nAnnouncements\\nClaude 3 Haiku: our fastest model yet\\nMar 13, 2024\\nAnnouncements\\nIntroducing the next generation of Claude\\nMar 4, 2024\\nProduct\\nPrompt engineering for business performance\\nFeb 29, 2024\\nPolicy\\nPreparing for global elections in 2024\\nFeb 16, 2024\\nAnnouncements\\nExpanded legal protections and improvements to our API\\nDec 19, 2023\\nProduct\\nLong context prompting for Claude 2.1\\nDec 6, 2023\\nProduct\\nIntroducing Claude 2.1\\nNov 21, 2023\\nPolicy\\nThoughts on the US Executive Order, G7 Code of Conduct, and Bletchley Park Summit\\nNov 5, 2023\\nPolicy\\nDario Amodei’s prepared remarks from the AI Safety Summit on Anthropic’s Responsible Scaling Policy\\nNov 1, 2023\\nAnnouncements\\nClaude on Amazon Bedrock now available to every AWS customer\\nSep 28, 2023\\nAnnouncements\\nExpanding access to safer AI with Amazon\\nSep 25, 2023\\nProduct\\nPrompt engineering for Claude\\'s long context window\\nSep 23, 2023\\nAnnouncements\\nAnthropic\\'s Responsible Scaling Policy\\nSep 19, 2023\\nAnnouncements\\nThe Long-Term Benefit Trust\\nSep 19, 2023\\nAnnouncements\\nAnthropic partners with BCG\\nSep 14, 2023\\nAnnouncements\\nIntroducing Claude Pro\\nSep 7, 2023\\nProduct\\nClaude 2 on Amazon Bedrock\\nAug 23, 2023\\nAnnouncements\\nSKT Partnership Announcement\\nAug 15, 2023\\nAnnouncements\\nReleasing Claude Instant 1.2\\nAug 9, 2023\\nAnnouncements\\nFrontier Threats Red Teaming for AI Safety\\nJul 26, 2023\\nAnnouncements\\nFrontier Model Security\\nJul 25, 2023\\nAnnouncements\\nClaude 2\\nJul 11, 2023\\nAnnouncements\\nCharting a Path to AI Accountability\\nJun 13, 2023\\nAnnouncements\\nAnthropic Raises $450 Million in Series C Funding to Scale Reliable AI Products\\nMay 23, 2023\\nAnnouncements\\nZoom Partnership and Investment in Anthropic\\nMay 16, 2023\\nAnnouncements\\nIntroducing 100K Context Windows\\nMay 11, 2023\\nAnnouncements\\nClaude’s Constitution\\nMay 9, 2023\\nAnnouncements\\nPartnering with Scale to Bring Generative AI to Enterprises\\nApr 26, 2023\\nAnnouncements\\nAn AI Policy Tool for Today: Ambitiously Invest in NIST\\nApr 20, 2023\\nAnnouncements\\nClaude, now in Slack\\nMar 30, 2023\\nAnnouncements\\nIntroducing Claude\\nMar 14, 2023\\nAnnouncements\\nCore Views on AI Safety: When, Why, What, and How\\nMar 8, 2023\\nAnnouncements\\nAnthropic Partners with Google Cloud\\nFeb 3, 2023\\nAnnouncements\\nAnthropic Raises Series B to Build Steerable, Interpretable, Robust AI Systems\\nApr 29, 2022\\nAnnouncements\\nAnthropic raises $124 million to build more reliable, general AI systems\\nMay 28, 2021\\nClaude\\nAPI\\nTeam\\nPricing\\nResearch\\nCompany\\nCustomers\\nNews\\nCareers\\nPress Inquiries\\nSupport\\nStatus\\nAvailability\\nTwitter\\nLinkedIn\\nYouTube\\nTerms of Service – Consumer\\nTerms of Service – Commercial\\nPrivacy Policy\\nUsage Policy\\nResponsible Disclosure Policy\\nCompliance\\nPrivacy Choices\\n© 2025 Anthropic PBC\\n\\n\\n\\nClaude product page\\nWebpage Title:\\n Meet Claude \\\\ Anthropic\\nWebpage Contents:\\nClaude\\nOverview\\nTeam\\nEnterprise\\nAPI\\nPricing\\nResearch\\nCompany\\nCareers\\nNews\\nTry Claude\\nMeet Claude\\nClaude is AI for all of us. Whether you\\'re brainstorming alone or building with a team of thousands, Claude is here to help.\\nTry Claude\\nGet API access\\nClaude’s capabilities\\nAdvanced reasoning\\nClaude can perform complex cognitive tasks that go beyond simple pattern recognition or text generation\\nVision analysis\\nTranscribe and analyze almost any static image, from handwritten notes and graphs, to photographs\\nCode generation\\nStart creating websites in HTML and CSS, turning images into structured JSON data, or debugging complex code bases\\nMultilingual processing\\nTranslate between various languages in real-time, practice grammar, or create multi-lingual content\\nAnnouncements\\nIntroducing computer use, a new Claude 3.5 Sonnet, and Claude 3.5 Haiku\\nOct 22, 2024\\nModel updates\\n3.5 Sonnet\\n3.5 Haiku\\nThe Claude model family\\nRight-sized for any task, the Claude family of models offers the best combination of speed and performance.\\nLight & fast\\nHaiku\\nOur fastest model that can execute lightweight actions, with industry-leading speed.\\nHard-working\\nSonnet\\nOur best combination of performance and speed for efficient, high-throughput tasks.\\nPowerful\\nOpus\\nOur highest-performing model, which can handle complex analysis, longer tasks with many steps, and higher-order math and coding tasks.\\nCost\\nIntelligence\\nWhy Claude?\\nAnthropic builds frontier AI models backed by uncompromising integrity.\\nSecure\\nWith accessibility via AWS and GCP, SOC 2 Type II certification, and HIPAA compliance options, Claude adheres to the security practices your enterprise demands.\\nFeatured paper\\nMany-shot jailbreaking\\nFeatured post\\nChallenges in red teaming AI systems\\nTrustworthy\\nClaude combines best-in-class jailbreak resistance and misuse prevention to mitigate brand risk for our customers.\\nFeatured paper\\nRed Teaming Language Models to Reduce Harms: Methods, Scaling Behaviors, and Lessons Learned\\nFeatured paper\\nEvaluating and Mitigating Discrimination in Language Model Decisions\\nReliable\\nClaude empowers you to deploy AI to business critical use cases, with very low hallucination rates and very high accuracy over long documents.\\nFeatured post\\nClaude’s Character\\nFeatured paper\\nQuestion Decomposition Improves the Faithfulness of Model-Generated Reasoning\\nLeading companies build with Claude\\nRead customer stories\\nTalk to Claude\\nClaude is fast, capable, and truly conversational. Work with Claude to help you do your best work\\nTry Claude\\nBuild with Claude\\nUse the API to integrate Claude into you and your customer workflows to let AI transform your business\\nGet API access\\nTake Claude with you\\nTalk to Claude, anywhere you go. Brainstorm ideas, get answers, and analyze images on the go. The Claude apps put the power of frontier intelligence in your back pocket.\\nCompany News\\nSee All\\nAnnouncements\\nAnthropic achieves ISO 42001 certification for responsible AI\\nJan 13, 2025\\nAnnouncements\\nIntroducing the Model Context Protocol\\nNov 25, 2024\\nAnnouncements\\nPowering the next generation of AI development with AWS\\nNov 22, 2024\\nClaude\\nAPI\\nTeam\\nPricing\\nResearch\\nCompany\\nCustomers\\nNews\\nCareers\\nPress Inquiries\\nSupport\\nStatus\\nAvailability\\nTwitter\\nLinkedIn\\nYouTube\\nTerms of Service – Consumer\\nTerms of Service – Commercial\\nPrivacy Policy\\nUsage Policy\\nResponsible Disclosure Policy\\nCompliance\\nPrivacy Choices\\n© 2025 Anthropic PBC\\n\\n'"
      ]
     },
     "execution_count": 9,
     "metadata": {},
     "output_type": "execute_result"
    }
   ],
   "source": [
    "get_all_details(\"https://anthropic.com\")"
   ]
  },
  {
   "cell_type": "code",
   "execution_count": 10,
   "id": "7e98dacd-03eb-4c8c-8d59-06efe0783bac",
   "metadata": {},
   "outputs": [],
   "source": [
    "system_prompt = \"You are an assistant that analyzes the contents of several relevant pages from a company website \\\n",
    "and creates a short brochure about the company for prospective customers, investors and recruits. Respond in markdown.\\\n",
    "Include details of company culture, customers and careers/jobs if you have the information.\""
   ]
  },
  {
   "cell_type": "code",
   "execution_count": 11,
   "id": "61d709f2-bc2d-42b8-a2c0-2bc1d7e68ad6",
   "metadata": {},
   "outputs": [],
   "source": [
    "def get_brochure_user_prompt(company_name, url):\n",
    "    user_prompt = f\"You are looking at a company called: {company_name}\\n\"\n",
    "    user_prompt += f\"Here are the contents of its landing page and other relevant pages; use this information to build a short brochure of the company in markdown.\\n\"\n",
    "    user_prompt += get_all_details(url)\n",
    "    user_prompt = user_prompt[:5_000] # Truncate if more than 5,000 characters\n",
    "    return user_prompt"
   ]
  },
  {
   "cell_type": "code",
   "execution_count": 12,
   "id": "a8ac067c-4ef2-4477-abcb-8c3ceab6eef2",
   "metadata": {},
   "outputs": [],
   "source": [
    "def create_brochure(company_name, url):\n",
    "    response = openai.chat.completions.create(\n",
    "        model=MODEL,\n",
    "        messages=[\n",
    "            {\"role\": \"system\", \"content\": system_prompt},\n",
    "            {\"role\": \"user\", \"content\": get_brochure_user_prompt(company_name, url)}\n",
    "          ],\n",
    "    )\n",
    "    result = response.choices[0].message.content\n",
    "    display(Markdown(result))"
   ]
  },
  {
   "cell_type": "code",
   "execution_count": 13,
   "id": "51023656-e022-465e-8d8f-58979338af60",
   "metadata": {},
   "outputs": [
    {
     "name": "stdout",
     "output_type": "stream",
     "text": [
      "Found links:  {'links': [{'type': 'about page', 'url': 'https://www.anthropic.com/company'}, {'type': 'careers page', 'url': 'https://www.anthropic.com/careers'}, {'type': 'team page', 'url': 'https://www.anthropic.com/team'}, {'type': 'research page', 'url': 'https://www.anthropic.com/research'}, {'type': 'product page', 'url': 'https://www.anthropic.com/enterprise'}]}\n"
     ]
    },
    {
     "data": {
      "text/markdown": [
       "# Anthropic Company Brochure\n",
       "\n",
       "Welcome to Anthropic, an AI safety and research company dedicated to creating reliable, interpretable, and steerable AI systems. Our work is more than just building technology; it's about ensuring that AI systems can be depended upon as we navigate the complexities of their impacts on society.\n",
       "\n",
       "## Our Purpose\n",
       "\n",
       "At Anthropic, we understand that AI will have a significant impact on the world. Our mission is to build frontier AI systems that prioritize safety, and to conduct rigorous research to understand both the opportunities and risks associated with AI. We strive to develop systems that promote not only progress but also the well-being of people and society as a whole.\n",
       "\n",
       "## Our Products\n",
       "\n",
       "### Claude\n",
       "Meet Claude, our advanced AI model known for its intelligence and reliability. Currently featuring:\n",
       "- **Claude 3.5 Sonnet** – Our most intelligent model to date.\n",
       "- **Claude 3.5 Haiku** – A new addition to the Claude family.\n",
       "\n",
       "These AI systems are designed for various applications across industries, powered by our API, and tailored to meet customer needs in enterprises, nonprofits, and more.\n",
       "\n",
       "## AI Safety\n",
       "\n",
       "Anthropic treats AI safety as a science. We conduct innovative research, apply our findings to our systems, and continuously engage with the broader community to share insights. Our interdisciplinary team is dedicated to frontier research in AI safety, including topics such as interpretability and reinforcement learning from human feedback.\n",
       "\n",
       "## Culture and Values\n",
       "\n",
       "At Anthropic, our culture is built on collaboration and trust. Here are our core values:\n",
       "\n",
       "1. **Here for the Mission**: We focus on ensuring that transformative AI contributes positively to society. \n",
       "2. **Unusually High Trust**: We cultivate an environment where honesty and good intentions are the norm, fostering emotional maturity and intellectual openness.\n",
       "3. **One Big Team**: We value collaboration across diverse teams, recognizing that our collective efforts lead to superior outcomes.\n",
       "\n",
       "## Careers at Anthropic\n",
       "\n",
       "Join our talented team of engineers, researchers, policy experts, and operational leaders committed to building the future of AI. We're looking for innovative thinkers who share our vision of safe and beneficial AI systems. Explore our open roles [here](#) and see how you can contribute to our mission!\n",
       "\n",
       "## Who We Serve\n",
       "\n",
       "Our products benefit a wide range of customers, including:\n",
       "- **Businesses** seeking reliable AI solutions\n",
       "- **Nonprofits** helping communities thrive\n",
       "- **Educational institutions** advancing their research capabilities\n",
       "\n",
       "## Connect With Us\n",
       "\n",
       "Stay updated with our latest research and products by following us on our social media platforms or visiting our [website](#).\n",
       "\n",
       "---\n",
       "\n",
       "Become part of the changing landscape of AI with Anthropic – where safety meets innovation."
      ],
      "text/plain": [
       "<IPython.core.display.Markdown object>"
      ]
     },
     "metadata": {},
     "output_type": "display_data"
    }
   ],
   "source": [
    "create_brochure(\"Anthropic\", \"https://anthropic.com\")"
   ]
  },
  {
   "cell_type": "code",
   "execution_count": null,
   "id": "ac72889a-c3cc-4d5a-b421-7a53fe58e28a",
   "metadata": {},
   "outputs": [],
   "source": []
  }
 ],
 "metadata": {
  "kernelspec": {
   "display_name": "Python 3 (ipykernel)",
   "language": "python",
   "name": "python3"
  },
  "language_info": {
   "codemirror_mode": {
    "name": "ipython",
    "version": 3
   },
   "file_extension": ".py",
   "mimetype": "text/x-python",
   "name": "python",
   "nbconvert_exporter": "python",
   "pygments_lexer": "ipython3",
   "version": "3.9.21"
  }
 },
 "nbformat": 4,
 "nbformat_minor": 5
}
