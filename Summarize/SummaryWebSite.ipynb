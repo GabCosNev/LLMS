{
 "cells": [
  {
   "cell_type": "code",
   "execution_count": 1,
   "id": "66cb0e0f-95db-4e68-80a3-88d9e9c86346",
   "metadata": {},
   "outputs": [],
   "source": [
    "import os \n",
    "import requests\n",
    "from dotenv import load_dotenv\n",
    "from bs4 import BeautifulSoup\n",
    "from IPython.display import Markdown, display\n",
    "from openai import OpenAI"
   ]
  },
  {
   "cell_type": "code",
   "execution_count": 2,
   "id": "1b0eb753-1f27-4a1e-b537-f644f4bc545a",
   "metadata": {},
   "outputs": [
    {
     "name": "stdout",
     "output_type": "stream",
     "text": [
      "API key found\n"
     ]
    }
   ],
   "source": [
    "# Load enviroment variables in a file called .env\n",
    "load_dotenv()\n",
    "api_key = os.getenv('OPENAI_API_KEY')\n",
    "\n",
    "# Check the key \n",
    "if not api_key:\n",
    "    print(\"No API key was found\")\n",
    "else:\n",
    "    print(\"API key found\")\n",
    "\n",
    "openai = OpenAI()"
   ]
  },
  {
   "cell_type": "code",
   "execution_count": 3,
   "id": "deefdc88-faec-4041-b1dc-9f1c49c9e412",
   "metadata": {},
   "outputs": [],
   "source": [
    "# Defining the Website class\n",
    "class Website:\n",
    "    \n",
    "    # Declaration of the expected attributes for the Website class\n",
    "    url: str\n",
    "    title: str \n",
    "    text: str\n",
    "\n",
    "    # The __init__ method is the constructor of the class, called when a new instance is created\n",
    "    def __init__(self, url):\n",
    "        # Initializes the 'url' attribute with the value passed as an argument\n",
    "        self.url = url\n",
    "        \n",
    "        # Makes an HTTP request to get the content of the URL\n",
    "        response = requests.get(url)\n",
    "        \n",
    "        # Uses BeautifulSoup to parse the HTML content of the page\n",
    "        soup = BeautifulSoup(response.content, 'html.parser')\n",
    "        \n",
    "        # Extracts the page's title. If there's no title, set it to \"No title found\"\n",
    "        self.title = soup.title.string if soup.title else \"No title found\"\n",
    "        \n",
    "        # Removes irrelevant elements from the page (such as scripts, images, and inputs)\n",
    "        for irrelevant in soup.body([\"script\", \"style\", \"img\", \"input\"]):\n",
    "            irrelevant.decompose()\n",
    "        \n",
    "        # Extracts the page's text, separating lines by newlines and stripping extra spaces\n",
    "        self.text = soup.body.get_text(separator=\"\\n\", strip=True)"
   ]
  },
  {
   "cell_type": "code",
   "execution_count": 4,
   "id": "7901e5d1-4d67-4764-bacf-f9d8d7adae8c",
   "metadata": {},
   "outputs": [],
   "source": [
    "# \"You are an assistant that analyzes the contents of a website\": O assistente deve analisar o conteúdo de um site.\n",
    "# \"and provides a short summary\": O assistente deve fornecer um resumo curto do conteúdo.\n",
    "# \"ignoring text that might be navigation related\": O assistente deve ignorar textos que sejam relacionados à navegação, como menus, links de navegação, etc.\n",
    "# \"respond in markdown\": O assistente deve responder usando a formatação Markdown, que é uma maneira de formatar texto simples, muito comum em plataformas como GitHub e Reddit.\n",
    "system_prompt =\"You are an assistant that analyzes the contents of a website\\\n",
    "                and provides a short summary, ignoring text that might be navigation related\\\n",
    "                respond in markdown.\\\n",
    "                You always answer in Portuguese (Brazilian Portuguese)\""
   ]
  },
  {
   "cell_type": "code",
   "execution_count": 5,
   "id": "7230a18b-17de-4d21-a9bc-01f4e8fdd8e9",
   "metadata": {},
   "outputs": [],
   "source": [
    "def user_prompt_for(website):\n",
    "    # Cria a variável 'user_prompt' e começa a mensagem com o título do site\n",
    "    user_prompt = f\"You are looking at a website title {website.title}\"\n",
    "    \n",
    "    # Adiciona uma mensagem sobre o conteúdo do site e as instruções para resumir\n",
    "    user_prompt += \"\\nThe contents of this website is as follows;\\\n",
    " please provide a short summary of this website in markdown\\\n",
    " if it includes news or annoucements, then summarize these too\\n\\n\"\n",
    "        \n",
    "    # Adiciona o conteúdo textual extraído do site ao prompt\n",
    "    user_prompt += website.text\n",
    "    \n",
    "    # Retorna o prompt final, que será usado pelo modelo de IA\n",
    "    return user_prompt"
   ]
  },
  {
   "cell_type": "code",
   "execution_count": 6,
   "id": "f11386ee-123f-4e36-af19-d4192643c35c",
   "metadata": {},
   "outputs": [],
   "source": [
    "def messages_for(website):\n",
    "    return[\n",
    "        {\"role\": \"system\", \"content\": system_prompt},\n",
    "        {\"role\": \"user\", \"content\":user_prompt_for(website)},\n",
    "    ]"
   ]
  },
  {
   "cell_type": "code",
   "execution_count": 7,
   "id": "9fb5228f-89ec-4a2f-b8a4-31cdf271eafc",
   "metadata": {},
   "outputs": [],
   "source": [
    "def summarize(url):\n",
    "    website = Website(url)\n",
    "    response = openai.chat.completions.create(\n",
    "        model = \"gpt-4o-mini\",\n",
    "        messages = messages_for(website)\n",
    "    )\n",
    "    return response.choices[0].message.content"
   ]
  },
  {
   "cell_type": "code",
   "execution_count": 8,
   "id": "c724d69c-d00f-439f-9648-393b41e9302a",
   "metadata": {},
   "outputs": [],
   "source": [
    "def display_summary(url): \n",
    "    summary = summarize(url)\n",
    "    display(Markdown(summary))"
   ]
  },
  {
   "cell_type": "code",
   "execution_count": 9,
   "id": "90ed7786-7158-4a11-ad03-af6d7811fd34",
   "metadata": {},
   "outputs": [
    {
     "data": {
      "text/markdown": [
       "# Resumo do site GloboNews\n",
       "\n",
       "GloboNews é um canal de notícias que opera 24 horas, trazendo as últimas informações e eventos importantes tanto do Brasil quanto do mundo.\n",
       "\n",
       "## Principais notícias\n",
       "\n",
       "- **Rússia e Ucrânia**: Autoridades russas afirmam ter tomado a cidade de **Zelene**, localizada na região de Donetsk.\n",
       "  \n",
       "- **Fortes Chuvas em São Paulo**: Uma pessoa morreu devido às intensas chuvas; o corpo do artista **Rodolpho Tamanini Netto** foi encontrado.\n",
       "\n",
       "- **Conflito Israel-Palestina**: \n",
       "  - Israel soltou prisioneiros palestinos na Cisjordânia.\n",
       "  - O Hamas declarou que um refém israelense civil, que não foi libertada recentemente, está viva.\n",
       "  - O Hamas também libertou quatro reféns israelenses.\n",
       "\n",
       "- **Aeroporto Galeão**: O número de passageiros no aeroporto do Rio de Janeiro cresceu em **82%** em 2024, totalizando mais de **14 milhões** de pessoas. \n",
       "\n",
       "Essas informações refletem a diversidade de coberturas e o foco em eventos relevantes atuais."
      ],
      "text/plain": [
       "<IPython.core.display.Markdown object>"
      ]
     },
     "metadata": {},
     "output_type": "display_data"
    }
   ],
   "source": [
    "display_summary(\"https://g1.globo.com/globonews/\")"
   ]
  }
 ],
 "metadata": {
  "kernelspec": {
   "display_name": "Python 3 (ipykernel)",
   "language": "python",
   "name": "python3"
  },
  "language_info": {
   "codemirror_mode": {
    "name": "ipython",
    "version": 3
   },
   "file_extension": ".py",
   "mimetype": "text/x-python",
   "name": "python",
   "nbconvert_exporter": "python",
   "pygments_lexer": "ipython3",
   "version": "3.9.21"
  }
 },
 "nbformat": 4,
 "nbformat_minor": 5
}
