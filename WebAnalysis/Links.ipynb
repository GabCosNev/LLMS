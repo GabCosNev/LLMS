{
 "cells": [
  {
   "cell_type": "code",
   "execution_count": 13,
   "id": "224b2ab1-68b9-4927-aeb2-0b5b84312e5b",
   "metadata": {},
   "outputs": [],
   "source": [
    "import os \n",
    "import requests\n",
    "import json \n",
    "from typing import List\n",
    "from dotenv import load_dotenv\n",
    "from bs4 import BeautifulSoup\n",
    "from IPython.display import Markdown, display, update_display\n",
    "from openai import OpenAI\n",
    "from web.webRead import Website"
   ]
  },
  {
   "cell_type": "code",
   "execution_count": 14,
   "id": "00a18ce1-b5e7-4f6e-956d-f1c3b2ec7e63",
   "metadata": {},
   "outputs": [],
   "source": [
    "link_system_prompt = \"You are provided with a list of links found on a webpage. \\\n",
    "You ara able to decide which of the links would be most relevant to include in a brochure about the company, \\\n",
    "such as links to an about page, or a company page, or carrer/Jobs page.\\n\"\n",
    "link_system_prompt += \"You should repons in JSON as in this example:\"\n",
    "link_system_prompt += \"\"\"\n",
    "{\n",
    "    \"links\": [\n",
    "        {\"type\": \"about page\", \"url\": \"https://full.url/goes/here/about\"}\n",
    "        {\"type\": \"carrers page\", \"url\": \"https://another.full.url/careers\"}\n",
    "    ]\n",
    "}\n",
    "\"\"\""
   ]
  },
  {
   "cell_type": "code",
   "execution_count": 15,
   "id": "e272ece5-2ecb-4490-a1b9-822b914e8dc3",
   "metadata": {},
   "outputs": [],
   "source": [
    "def get_links_user_prompt(Website):\n",
    "    user_prompt = f\"Here is the list of links on the website of {Website.url} - \"\n",
    "    user_prompt += \"please decide which of these are relevant web links for a brochure about the company, respond with the full https URL in JSON format. \\\n",
    "Do not include Terms of Service, Privacy, email links.\\n\"\n",
    "    user_prompt += \"Links (some might be relative links):\\n\"\n",
    "    user_prompt += \"\\n\".join(Website.links)\n",
    "    return user_prompt"
   ]
  },
  {
   "cell_type": "code",
   "execution_count": 16,
   "id": "b783a621-b92f-4c7d-962a-e8860f0be9e1",
   "metadata": {},
   "outputs": [
    {
     "name": "stdout",
     "output_type": "stream",
     "text": [
      "API key found\n"
     ]
    }
   ],
   "source": [
    "load_dotenv(r'C:\\Users\\Gabriel\\Documents\\key\\key.env')\n",
    "api_key = os.getenv('OPENAI_API_KEY')\n",
    "\n",
    "if not api_key:\n",
    "    print(\"No API key was found\")\n",
    "else:\n",
    "    print(\"API key found\")\n",
    "openai = OpenAI()"
   ]
  },
  {
   "cell_type": "code",
   "execution_count": 17,
   "id": "0c35ed70-115b-432c-96c1-68d3383d320b",
   "metadata": {},
   "outputs": [],
   "source": [
    "def get_links(url):\n",
    "    website = Website(url)\n",
    "    completion = openai.chat.completions.create(\n",
    "        \n",
    "        model = 'gpt-4o-mini',\n",
    "        messages=[\n",
    "            {\"role\": \"system\", \"content\": link_system_prompt},\n",
    "            {\"role\": \"user\", \"content\": get_links_user_prompt(website)}\n",
    "        ],\n",
    "        response_format = {\"type\": \"json_object\"}\n",
    "    )\n",
    "    result = completion.choices[0].message.content\n",
    "    return json.loads(result)"
   ]
  },
  {
   "cell_type": "code",
   "execution_count": 18,
   "id": "39488a7b-9b86-4365-b7fb-4baccefa5ea3",
   "metadata": {},
   "outputs": [
    {
     "data": {
      "text/plain": [
       "{'links': [{'type': 'about page', 'url': 'https://www.anthropic.com/company'},\n",
       "  {'type': 'careers page', 'url': 'https://www.anthropic.com/careers'},\n",
       "  {'type': 'team page', 'url': 'https://www.anthropic.com/team'},\n",
       "  {'type': 'research page', 'url': 'https://www.anthropic.com/research'},\n",
       "  {'type': 'news page', 'url': 'https://www.anthropic.com/news'}]}"
      ]
     },
     "execution_count": 18,
     "metadata": {},
     "output_type": "execute_result"
    }
   ],
   "source": [
    "get_links(\"https://anthropic.com\")"
   ]
  },
  {
   "cell_type": "code",
   "execution_count": null,
   "id": "4de5444c-94a9-46cb-95e5-0c7f7cfaf491",
   "metadata": {},
   "outputs": [],
   "source": []
  }
 ],
 "metadata": {
  "kernelspec": {
   "display_name": "Python 3 (ipykernel)",
   "language": "python",
   "name": "python3"
  },
  "language_info": {
   "codemirror_mode": {
    "name": "ipython",
    "version": 3
   },
   "file_extension": ".py",
   "mimetype": "text/x-python",
   "name": "python",
   "nbconvert_exporter": "python",
   "pygments_lexer": "ipython3",
   "version": "3.9.21"
  }
 },
 "nbformat": 4,
 "nbformat_minor": 5
}
